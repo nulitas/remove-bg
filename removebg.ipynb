{
 "cells": [
  {
   "cell_type": "code",
   "execution_count": 11,
   "metadata": {},
   "outputs": [],
   "source": [
    "import os\n",
    "import rembg"
   ]
  },
  {
   "cell_type": "code",
   "execution_count": 12,
   "metadata": {},
   "outputs": [],
   "source": [
    "# input folder  = where is the image located\n",
    "# output folder = pick the different folder\n",
    "input_folder = \"img/\"\n",
    "output_folder = \"img/output/\""
   ]
  },
  {
   "cell_type": "code",
   "execution_count": 15,
   "metadata": {},
   "outputs": [
    {
     "name": "stdout",
     "output_type": "stream",
     "text": [
      "done 1\n"
     ]
    }
   ],
   "source": [
    "for index, file in enumerate(os.listdir(input_folder)):\n",
    "    if file.endswith(('.png', '.jpg', '.jpeg')):\n",
    "        name, ext = os.path.splitext(file)\n",
    "        input_path = os.path.join(input_folder, file)\n",
    "        output_path = os.path.join(output_folder, f\"{name}-rem.png\")\n",
    "        \n",
    "        with open(input_path, \"rb\") as inp:\n",
    "            with open(output_path, \"wb\") as out:\n",
    "                input_data = inp.read()\n",
    "                output_data = rembg.remove(input_data)\n",
    "                out.write(output_data)\n",
    "        \n",
    "        print(f'done {index}')"
   ]
  }
 ],
 "metadata": {
  "kernelspec": {
   "display_name": "tf",
   "language": "python",
   "name": "python3"
  },
  "language_info": {
   "codemirror_mode": {
    "name": "ipython",
    "version": 3
   },
   "file_extension": ".py",
   "mimetype": "text/x-python",
   "name": "python",
   "nbconvert_exporter": "python",
   "pygments_lexer": "ipython3",
   "version": "3.9.18"
  }
 },
 "nbformat": 4,
 "nbformat_minor": 2
}
